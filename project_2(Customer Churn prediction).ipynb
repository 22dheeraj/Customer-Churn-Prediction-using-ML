{
 "cells": [
  {
   "cell_type": "code",
   "execution_count": 2,
   "id": "74ea1094",
   "metadata": {},
   "outputs": [],
   "source": [
    "import pandas as pd\n",
    "import numpy as np\n",
    "import seaborn as sns\n",
    "import matplotlib.pyplot as plt"
   ]
  },
  {
   "cell_type": "markdown",
   "id": "8d68ec25",
   "metadata": {},
   "source": [
    "                                       Task-1:Data Exploration & Preprocessing "
   ]
  },
  {
   "cell_type": "markdown",
   "id": "336a3ba3",
   "metadata": {},
   "source": [
    "1.1 Dataset Overview\n",
    "Loaded dataset: Customer_data.csv with 7043 records and 21 columns\n",
    "\n",
    "Dataset includes:\n",
    "\n",
    "Customer demographics: gender, senior citizen, dependents\n",
    "\n",
    "Services used: internet, phone, streaming, online security\n",
    "\n",
    "Billing info: monthly charges, total charges, contract type\n",
    "\n",
    "Target variable: Churn (Yes/No)"
   ]
  },
  {
   "cell_type": "code",
   "execution_count": 3,
   "id": "d4ea5cc4",
   "metadata": {},
   "outputs": [
    {
     "data": {
      "text/html": [
       "<div>\n",
       "<style scoped>\n",
       "    .dataframe tbody tr th:only-of-type {\n",
       "        vertical-align: middle;\n",
       "    }\n",
       "\n",
       "    .dataframe tbody tr th {\n",
       "        vertical-align: top;\n",
       "    }\n",
       "\n",
       "    .dataframe thead th {\n",
       "        text-align: right;\n",
       "    }\n",
       "</style>\n",
       "<table border=\"1\" class=\"dataframe\">\n",
       "  <thead>\n",
       "    <tr style=\"text-align: right;\">\n",
       "      <th></th>\n",
       "      <th>customerID</th>\n",
       "      <th>gender</th>\n",
       "      <th>SeniorCitizen</th>\n",
       "      <th>Partner</th>\n",
       "      <th>Dependents</th>\n",
       "      <th>tenure</th>\n",
       "      <th>PhoneService</th>\n",
       "      <th>MultipleLines</th>\n",
       "      <th>InternetService</th>\n",
       "      <th>OnlineSecurity</th>\n",
       "      <th>...</th>\n",
       "      <th>DeviceProtection</th>\n",
       "      <th>TechSupport</th>\n",
       "      <th>StreamingTV</th>\n",
       "      <th>StreamingMovies</th>\n",
       "      <th>Contract</th>\n",
       "      <th>PaperlessBilling</th>\n",
       "      <th>PaymentMethod</th>\n",
       "      <th>MonthlyCharges</th>\n",
       "      <th>TotalCharges</th>\n",
       "      <th>Churn</th>\n",
       "    </tr>\n",
       "  </thead>\n",
       "  <tbody>\n",
       "    <tr>\n",
       "      <th>0</th>\n",
       "      <td>7590-VHVEG</td>\n",
       "      <td>Female</td>\n",
       "      <td>0</td>\n",
       "      <td>Yes</td>\n",
       "      <td>No</td>\n",
       "      <td>1</td>\n",
       "      <td>No</td>\n",
       "      <td>No phone service</td>\n",
       "      <td>DSL</td>\n",
       "      <td>No</td>\n",
       "      <td>...</td>\n",
       "      <td>No</td>\n",
       "      <td>No</td>\n",
       "      <td>No</td>\n",
       "      <td>No</td>\n",
       "      <td>Month-to-month</td>\n",
       "      <td>Yes</td>\n",
       "      <td>Electronic check</td>\n",
       "      <td>29.85</td>\n",
       "      <td>29.85</td>\n",
       "      <td>No</td>\n",
       "    </tr>\n",
       "    <tr>\n",
       "      <th>1</th>\n",
       "      <td>5575-GNVDE</td>\n",
       "      <td>Male</td>\n",
       "      <td>0</td>\n",
       "      <td>No</td>\n",
       "      <td>No</td>\n",
       "      <td>34</td>\n",
       "      <td>Yes</td>\n",
       "      <td>No</td>\n",
       "      <td>DSL</td>\n",
       "      <td>Yes</td>\n",
       "      <td>...</td>\n",
       "      <td>Yes</td>\n",
       "      <td>No</td>\n",
       "      <td>No</td>\n",
       "      <td>No</td>\n",
       "      <td>One year</td>\n",
       "      <td>No</td>\n",
       "      <td>Mailed check</td>\n",
       "      <td>56.95</td>\n",
       "      <td>1889.50</td>\n",
       "      <td>No</td>\n",
       "    </tr>\n",
       "    <tr>\n",
       "      <th>2</th>\n",
       "      <td>3668-QPYBK</td>\n",
       "      <td>Male</td>\n",
       "      <td>0</td>\n",
       "      <td>No</td>\n",
       "      <td>No</td>\n",
       "      <td>2</td>\n",
       "      <td>Yes</td>\n",
       "      <td>No</td>\n",
       "      <td>DSL</td>\n",
       "      <td>Yes</td>\n",
       "      <td>...</td>\n",
       "      <td>No</td>\n",
       "      <td>No</td>\n",
       "      <td>No</td>\n",
       "      <td>No</td>\n",
       "      <td>Month-to-month</td>\n",
       "      <td>Yes</td>\n",
       "      <td>Mailed check</td>\n",
       "      <td>53.85</td>\n",
       "      <td>108.15</td>\n",
       "      <td>Yes</td>\n",
       "    </tr>\n",
       "    <tr>\n",
       "      <th>3</th>\n",
       "      <td>7795-CFOCW</td>\n",
       "      <td>Male</td>\n",
       "      <td>0</td>\n",
       "      <td>No</td>\n",
       "      <td>No</td>\n",
       "      <td>45</td>\n",
       "      <td>No</td>\n",
       "      <td>No phone service</td>\n",
       "      <td>DSL</td>\n",
       "      <td>Yes</td>\n",
       "      <td>...</td>\n",
       "      <td>Yes</td>\n",
       "      <td>Yes</td>\n",
       "      <td>No</td>\n",
       "      <td>No</td>\n",
       "      <td>One year</td>\n",
       "      <td>No</td>\n",
       "      <td>Bank transfer (automatic)</td>\n",
       "      <td>42.30</td>\n",
       "      <td>1840.75</td>\n",
       "      <td>No</td>\n",
       "    </tr>\n",
       "    <tr>\n",
       "      <th>4</th>\n",
       "      <td>9237-HQITU</td>\n",
       "      <td>Female</td>\n",
       "      <td>0</td>\n",
       "      <td>No</td>\n",
       "      <td>No</td>\n",
       "      <td>2</td>\n",
       "      <td>Yes</td>\n",
       "      <td>No</td>\n",
       "      <td>Fiber optic</td>\n",
       "      <td>No</td>\n",
       "      <td>...</td>\n",
       "      <td>No</td>\n",
       "      <td>No</td>\n",
       "      <td>No</td>\n",
       "      <td>No</td>\n",
       "      <td>Month-to-month</td>\n",
       "      <td>Yes</td>\n",
       "      <td>Electronic check</td>\n",
       "      <td>70.70</td>\n",
       "      <td>151.65</td>\n",
       "      <td>Yes</td>\n",
       "    </tr>\n",
       "  </tbody>\n",
       "</table>\n",
       "<p>5 rows × 21 columns</p>\n",
       "</div>"
      ],
      "text/plain": [
       "   customerID  gender  SeniorCitizen Partner Dependents  tenure PhoneService  \\\n",
       "0  7590-VHVEG  Female              0     Yes         No       1           No   \n",
       "1  5575-GNVDE    Male              0      No         No      34          Yes   \n",
       "2  3668-QPYBK    Male              0      No         No       2          Yes   \n",
       "3  7795-CFOCW    Male              0      No         No      45           No   \n",
       "4  9237-HQITU  Female              0      No         No       2          Yes   \n",
       "\n",
       "      MultipleLines InternetService OnlineSecurity  ... DeviceProtection  \\\n",
       "0  No phone service             DSL             No  ...               No   \n",
       "1                No             DSL            Yes  ...              Yes   \n",
       "2                No             DSL            Yes  ...               No   \n",
       "3  No phone service             DSL            Yes  ...              Yes   \n",
       "4                No     Fiber optic             No  ...               No   \n",
       "\n",
       "  TechSupport StreamingTV StreamingMovies        Contract PaperlessBilling  \\\n",
       "0          No          No              No  Month-to-month              Yes   \n",
       "1          No          No              No        One year               No   \n",
       "2          No          No              No  Month-to-month              Yes   \n",
       "3         Yes          No              No        One year               No   \n",
       "4          No          No              No  Month-to-month              Yes   \n",
       "\n",
       "               PaymentMethod MonthlyCharges  TotalCharges  Churn  \n",
       "0           Electronic check          29.85         29.85     No  \n",
       "1               Mailed check          56.95       1889.50     No  \n",
       "2               Mailed check          53.85        108.15    Yes  \n",
       "3  Bank transfer (automatic)          42.30       1840.75     No  \n",
       "4           Electronic check          70.70        151.65    Yes  \n",
       "\n",
       "[5 rows x 21 columns]"
      ]
     },
     "execution_count": 3,
     "metadata": {},
     "output_type": "execute_result"
    }
   ],
   "source": [
    "df=pd.read_csv('Customer_data.csv')   #Loaded dataset (Customer_data.csv)\n",
    "df.head()"
   ]
  },
  {
   "cell_type": "markdown",
   "id": "4feb7992",
   "metadata": {},
   "source": [
    "1.2 Data Inspection\n",
    "Used df.info(), df.isnull().sum() and df.describe() to understand:\n",
    "\n",
    "Data types (object, int64, float64)\n",
    "\n",
    "Statistical summaries for numeric columns\n",
    "\n",
    "Found that TotalCharges had 11 missing values"
   ]
  },
  {
   "cell_type": "code",
   "execution_count": 4,
   "id": "17582e02",
   "metadata": {},
   "outputs": [
    {
     "name": "stdout",
     "output_type": "stream",
     "text": [
      "<class 'pandas.core.frame.DataFrame'>\n",
      "RangeIndex: 7043 entries, 0 to 7042\n",
      "Data columns (total 21 columns):\n",
      " #   Column            Non-Null Count  Dtype  \n",
      "---  ------            --------------  -----  \n",
      " 0   customerID        7043 non-null   object \n",
      " 1   gender            7043 non-null   object \n",
      " 2   SeniorCitizen     7043 non-null   int64  \n",
      " 3   Partner           7043 non-null   object \n",
      " 4   Dependents        7043 non-null   object \n",
      " 5   tenure            7043 non-null   int64  \n",
      " 6   PhoneService      7043 non-null   object \n",
      " 7   MultipleLines     7043 non-null   object \n",
      " 8   InternetService   7043 non-null   object \n",
      " 9   OnlineSecurity    7043 non-null   object \n",
      " 10  OnlineBackup      7043 non-null   object \n",
      " 11  DeviceProtection  7043 non-null   object \n",
      " 12  TechSupport       7043 non-null   object \n",
      " 13  StreamingTV       7043 non-null   object \n",
      " 14  StreamingMovies   7043 non-null   object \n",
      " 15  Contract          7043 non-null   object \n",
      " 16  PaperlessBilling  7043 non-null   object \n",
      " 17  PaymentMethod     7043 non-null   object \n",
      " 18  MonthlyCharges    7043 non-null   float64\n",
      " 19  TotalCharges      7032 non-null   float64\n",
      " 20  Churn             7043 non-null   object \n",
      "dtypes: float64(2), int64(2), object(17)\n",
      "memory usage: 1.1+ MB\n"
     ]
    }
   ],
   "source": [
    "df.info()"
   ]
  },
  {
   "cell_type": "code",
   "execution_count": 5,
   "id": "17cc9c41",
   "metadata": {},
   "outputs": [
    {
     "data": {
      "text/html": [
       "<div>\n",
       "<style scoped>\n",
       "    .dataframe tbody tr th:only-of-type {\n",
       "        vertical-align: middle;\n",
       "    }\n",
       "\n",
       "    .dataframe tbody tr th {\n",
       "        vertical-align: top;\n",
       "    }\n",
       "\n",
       "    .dataframe thead th {\n",
       "        text-align: right;\n",
       "    }\n",
       "</style>\n",
       "<table border=\"1\" class=\"dataframe\">\n",
       "  <thead>\n",
       "    <tr style=\"text-align: right;\">\n",
       "      <th></th>\n",
       "      <th>SeniorCitizen</th>\n",
       "      <th>tenure</th>\n",
       "      <th>MonthlyCharges</th>\n",
       "      <th>TotalCharges</th>\n",
       "    </tr>\n",
       "  </thead>\n",
       "  <tbody>\n",
       "    <tr>\n",
       "      <th>count</th>\n",
       "      <td>7043.000000</td>\n",
       "      <td>7043.000000</td>\n",
       "      <td>7043.000000</td>\n",
       "      <td>7032.000000</td>\n",
       "    </tr>\n",
       "    <tr>\n",
       "      <th>mean</th>\n",
       "      <td>0.162147</td>\n",
       "      <td>32.371149</td>\n",
       "      <td>64.761692</td>\n",
       "      <td>2283.300441</td>\n",
       "    </tr>\n",
       "    <tr>\n",
       "      <th>std</th>\n",
       "      <td>0.368612</td>\n",
       "      <td>24.559481</td>\n",
       "      <td>30.090047</td>\n",
       "      <td>2266.771362</td>\n",
       "    </tr>\n",
       "    <tr>\n",
       "      <th>min</th>\n",
       "      <td>0.000000</td>\n",
       "      <td>0.000000</td>\n",
       "      <td>18.250000</td>\n",
       "      <td>18.800000</td>\n",
       "    </tr>\n",
       "    <tr>\n",
       "      <th>25%</th>\n",
       "      <td>0.000000</td>\n",
       "      <td>9.000000</td>\n",
       "      <td>35.500000</td>\n",
       "      <td>401.450000</td>\n",
       "    </tr>\n",
       "    <tr>\n",
       "      <th>50%</th>\n",
       "      <td>0.000000</td>\n",
       "      <td>29.000000</td>\n",
       "      <td>70.350000</td>\n",
       "      <td>1397.475000</td>\n",
       "    </tr>\n",
       "    <tr>\n",
       "      <th>75%</th>\n",
       "      <td>0.000000</td>\n",
       "      <td>55.000000</td>\n",
       "      <td>89.850000</td>\n",
       "      <td>3794.737500</td>\n",
       "    </tr>\n",
       "    <tr>\n",
       "      <th>max</th>\n",
       "      <td>1.000000</td>\n",
       "      <td>72.000000</td>\n",
       "      <td>118.750000</td>\n",
       "      <td>8684.800000</td>\n",
       "    </tr>\n",
       "  </tbody>\n",
       "</table>\n",
       "</div>"
      ],
      "text/plain": [
       "       SeniorCitizen       tenure  MonthlyCharges  TotalCharges\n",
       "count    7043.000000  7043.000000     7043.000000   7032.000000\n",
       "mean        0.162147    32.371149       64.761692   2283.300441\n",
       "std         0.368612    24.559481       30.090047   2266.771362\n",
       "min         0.000000     0.000000       18.250000     18.800000\n",
       "25%         0.000000     9.000000       35.500000    401.450000\n",
       "50%         0.000000    29.000000       70.350000   1397.475000\n",
       "75%         0.000000    55.000000       89.850000   3794.737500\n",
       "max         1.000000    72.000000      118.750000   8684.800000"
      ]
     },
     "execution_count": 5,
     "metadata": {},
     "output_type": "execute_result"
    }
   ],
   "source": [
    "df.describe()"
   ]
  },
  {
   "cell_type": "code",
   "execution_count": 6,
   "id": "75e22ee0",
   "metadata": {},
   "outputs": [
    {
     "data": {
      "text/plain": [
       "customerID           0\n",
       "gender               0\n",
       "SeniorCitizen        0\n",
       "Partner              0\n",
       "Dependents           0\n",
       "tenure               0\n",
       "PhoneService         0\n",
       "MultipleLines        0\n",
       "InternetService      0\n",
       "OnlineSecurity       0\n",
       "OnlineBackup         0\n",
       "DeviceProtection     0\n",
       "TechSupport          0\n",
       "StreamingTV          0\n",
       "StreamingMovies      0\n",
       "Contract             0\n",
       "PaperlessBilling     0\n",
       "PaymentMethod        0\n",
       "MonthlyCharges       0\n",
       "TotalCharges        11\n",
       "Churn                0\n",
       "dtype: int64"
      ]
     },
     "execution_count": 6,
     "metadata": {},
     "output_type": "execute_result"
    }
   ],
   "source": [
    "df.isnull().sum()"
   ]
  },
  {
   "cell_type": "markdown",
   "id": "ea9158f6",
   "metadata": {},
   "source": [
    "1.3 Missing Value Handling\n",
    "TotalCharges had 11 null entries:"
   ]
  },
  {
   "cell_type": "code",
   "execution_count": 7,
   "id": "8272ef31",
   "metadata": {},
   "outputs": [
    {
     "name": "stderr",
     "output_type": "stream",
     "text": [
      "C:\\Users\\HP\\AppData\\Local\\Temp\\ipykernel_15260\\2840544469.py:1: FutureWarning: A value is trying to be set on a copy of a DataFrame or Series through chained assignment using an inplace method.\n",
      "The behavior will change in pandas 3.0. This inplace method will never work because the intermediate object on which we are setting values always behaves as a copy.\n",
      "\n",
      "For example, when doing 'df[col].method(value, inplace=True)', try using 'df.method({col: value}, inplace=True)' or df[col] = df[col].method(value) instead, to perform the operation inplace on the original object.\n",
      "\n",
      "\n",
      "  df['TotalCharges'].fillna(df['TotalCharges'].median(), inplace=True)\n"
     ]
    }
   ],
   "source": [
    "df['TotalCharges'].fillna(df['TotalCharges'].median(), inplace=True)"
   ]
  },
  {
   "cell_type": "markdown",
   "id": "681fc149",
   "metadata": {},
   "source": [
    "*Chose median imputation to retain data integrity."
   ]
  },
  {
   "cell_type": "markdown",
   "id": "17cbd306",
   "metadata": {},
   "source": [
    "1.4 Column Cleanup\n",
    "Dropped customerID since it holds no predictive value:"
   ]
  },
  {
   "cell_type": "code",
   "execution_count": 8,
   "id": "158a8e61",
   "metadata": {},
   "outputs": [],
   "source": [
    "df.drop('customerID', axis=1, inplace=True)"
   ]
  },
  {
   "cell_type": "markdown",
   "id": "b9f41d6b",
   "metadata": {},
   "source": [
    "1.4(1) Showing the dataset after cleanup."
   ]
  },
  {
   "cell_type": "code",
   "execution_count": 9,
   "id": "9a6547d6",
   "metadata": {},
   "outputs": [
    {
     "data": {
      "text/plain": [
       "gender              0\n",
       "SeniorCitizen       0\n",
       "Partner             0\n",
       "Dependents          0\n",
       "tenure              0\n",
       "PhoneService        0\n",
       "MultipleLines       0\n",
       "InternetService     0\n",
       "OnlineSecurity      0\n",
       "OnlineBackup        0\n",
       "DeviceProtection    0\n",
       "TechSupport         0\n",
       "StreamingTV         0\n",
       "StreamingMovies     0\n",
       "Contract            0\n",
       "PaperlessBilling    0\n",
       "PaymentMethod       0\n",
       "MonthlyCharges      0\n",
       "TotalCharges        0\n",
       "Churn               0\n",
       "dtype: int64"
      ]
     },
     "execution_count": 9,
     "metadata": {},
     "output_type": "execute_result"
    }
   ],
   "source": [
    "df.isnull().sum()"
   ]
  },
  {
   "cell_type": "markdown",
   "id": "f59ed440",
   "metadata": {},
   "source": [
    " 1.5 Categorical Variable Encoding\n",
    "Binary columns (Yes/No) converted using .map():"
   ]
  },
  {
   "cell_type": "code",
   "execution_count": 10,
   "id": "0c96910e",
   "metadata": {},
   "outputs": [],
   "source": [
    "binary_cols = ['Partner', 'Dependents', 'PhoneService', 'PaperlessBilling', 'Churn']\n",
    "for col in binary_cols:\n",
    "    df[col] = df[col].map({'Yes': 1, 'No': 0})\n"
   ]
  },
  {
   "cell_type": "markdown",
   "id": "d359c300",
   "metadata": {},
   "source": [
    "Multi-category columns (e.g., InternetService, Contract) encoded with pd.get_dummies() using One Hot Encoding:"
   ]
  },
  {
   "cell_type": "code",
   "execution_count": 11,
   "id": "a1fb375c",
   "metadata": {},
   "outputs": [],
   "source": [
    "multi_cat_cols = ['gender', 'MultipleLines', 'InternetService', 'OnlineSecurity',\n",
    "                  'OnlineBackup', 'DeviceProtection', 'TechSupport', \n",
    "                  'StreamingTV', 'StreamingMovies', 'Contract', 'PaymentMethod']\n",
    "df = pd.get_dummies(df, columns=multi_cat_cols, drop_first=True)\n"
   ]
  },
  {
   "cell_type": "code",
   "execution_count": 12,
   "id": "1145b301",
   "metadata": {},
   "outputs": [
    {
     "data": {
      "text/html": [
       "<div>\n",
       "<style scoped>\n",
       "    .dataframe tbody tr th:only-of-type {\n",
       "        vertical-align: middle;\n",
       "    }\n",
       "\n",
       "    .dataframe tbody tr th {\n",
       "        vertical-align: top;\n",
       "    }\n",
       "\n",
       "    .dataframe thead th {\n",
       "        text-align: right;\n",
       "    }\n",
       "</style>\n",
       "<table border=\"1\" class=\"dataframe\">\n",
       "  <thead>\n",
       "    <tr style=\"text-align: right;\">\n",
       "      <th></th>\n",
       "      <th>SeniorCitizen</th>\n",
       "      <th>Partner</th>\n",
       "      <th>Dependents</th>\n",
       "      <th>tenure</th>\n",
       "      <th>PhoneService</th>\n",
       "      <th>PaperlessBilling</th>\n",
       "      <th>MonthlyCharges</th>\n",
       "      <th>TotalCharges</th>\n",
       "      <th>Churn</th>\n",
       "      <th>gender_Male</th>\n",
       "      <th>...</th>\n",
       "      <th>TechSupport_Yes</th>\n",
       "      <th>StreamingTV_No internet service</th>\n",
       "      <th>StreamingTV_Yes</th>\n",
       "      <th>StreamingMovies_No internet service</th>\n",
       "      <th>StreamingMovies_Yes</th>\n",
       "      <th>Contract_One year</th>\n",
       "      <th>Contract_Two year</th>\n",
       "      <th>PaymentMethod_Credit card (automatic)</th>\n",
       "      <th>PaymentMethod_Electronic check</th>\n",
       "      <th>PaymentMethod_Mailed check</th>\n",
       "    </tr>\n",
       "  </thead>\n",
       "  <tbody>\n",
       "    <tr>\n",
       "      <th>0</th>\n",
       "      <td>0</td>\n",
       "      <td>1</td>\n",
       "      <td>0</td>\n",
       "      <td>1</td>\n",
       "      <td>0</td>\n",
       "      <td>1</td>\n",
       "      <td>29.85</td>\n",
       "      <td>29.85</td>\n",
       "      <td>0</td>\n",
       "      <td>False</td>\n",
       "      <td>...</td>\n",
       "      <td>False</td>\n",
       "      <td>False</td>\n",
       "      <td>False</td>\n",
       "      <td>False</td>\n",
       "      <td>False</td>\n",
       "      <td>False</td>\n",
       "      <td>False</td>\n",
       "      <td>False</td>\n",
       "      <td>True</td>\n",
       "      <td>False</td>\n",
       "    </tr>\n",
       "    <tr>\n",
       "      <th>1</th>\n",
       "      <td>0</td>\n",
       "      <td>0</td>\n",
       "      <td>0</td>\n",
       "      <td>34</td>\n",
       "      <td>1</td>\n",
       "      <td>0</td>\n",
       "      <td>56.95</td>\n",
       "      <td>1889.50</td>\n",
       "      <td>0</td>\n",
       "      <td>True</td>\n",
       "      <td>...</td>\n",
       "      <td>False</td>\n",
       "      <td>False</td>\n",
       "      <td>False</td>\n",
       "      <td>False</td>\n",
       "      <td>False</td>\n",
       "      <td>True</td>\n",
       "      <td>False</td>\n",
       "      <td>False</td>\n",
       "      <td>False</td>\n",
       "      <td>True</td>\n",
       "    </tr>\n",
       "    <tr>\n",
       "      <th>2</th>\n",
       "      <td>0</td>\n",
       "      <td>0</td>\n",
       "      <td>0</td>\n",
       "      <td>2</td>\n",
       "      <td>1</td>\n",
       "      <td>1</td>\n",
       "      <td>53.85</td>\n",
       "      <td>108.15</td>\n",
       "      <td>1</td>\n",
       "      <td>True</td>\n",
       "      <td>...</td>\n",
       "      <td>False</td>\n",
       "      <td>False</td>\n",
       "      <td>False</td>\n",
       "      <td>False</td>\n",
       "      <td>False</td>\n",
       "      <td>False</td>\n",
       "      <td>False</td>\n",
       "      <td>False</td>\n",
       "      <td>False</td>\n",
       "      <td>True</td>\n",
       "    </tr>\n",
       "    <tr>\n",
       "      <th>3</th>\n",
       "      <td>0</td>\n",
       "      <td>0</td>\n",
       "      <td>0</td>\n",
       "      <td>45</td>\n",
       "      <td>0</td>\n",
       "      <td>0</td>\n",
       "      <td>42.30</td>\n",
       "      <td>1840.75</td>\n",
       "      <td>0</td>\n",
       "      <td>True</td>\n",
       "      <td>...</td>\n",
       "      <td>True</td>\n",
       "      <td>False</td>\n",
       "      <td>False</td>\n",
       "      <td>False</td>\n",
       "      <td>False</td>\n",
       "      <td>True</td>\n",
       "      <td>False</td>\n",
       "      <td>False</td>\n",
       "      <td>False</td>\n",
       "      <td>False</td>\n",
       "    </tr>\n",
       "    <tr>\n",
       "      <th>4</th>\n",
       "      <td>0</td>\n",
       "      <td>0</td>\n",
       "      <td>0</td>\n",
       "      <td>2</td>\n",
       "      <td>1</td>\n",
       "      <td>1</td>\n",
       "      <td>70.70</td>\n",
       "      <td>151.65</td>\n",
       "      <td>1</td>\n",
       "      <td>False</td>\n",
       "      <td>...</td>\n",
       "      <td>False</td>\n",
       "      <td>False</td>\n",
       "      <td>False</td>\n",
       "      <td>False</td>\n",
       "      <td>False</td>\n",
       "      <td>False</td>\n",
       "      <td>False</td>\n",
       "      <td>False</td>\n",
       "      <td>True</td>\n",
       "      <td>False</td>\n",
       "    </tr>\n",
       "  </tbody>\n",
       "</table>\n",
       "<p>5 rows × 31 columns</p>\n",
       "</div>"
      ],
      "text/plain": [
       "   SeniorCitizen  Partner  Dependents  tenure  PhoneService  PaperlessBilling  \\\n",
       "0              0        1           0       1             0                 1   \n",
       "1              0        0           0      34             1                 0   \n",
       "2              0        0           0       2             1                 1   \n",
       "3              0        0           0      45             0                 0   \n",
       "4              0        0           0       2             1                 1   \n",
       "\n",
       "   MonthlyCharges  TotalCharges  Churn  gender_Male  ...  TechSupport_Yes  \\\n",
       "0           29.85         29.85      0        False  ...            False   \n",
       "1           56.95       1889.50      0         True  ...            False   \n",
       "2           53.85        108.15      1         True  ...            False   \n",
       "3           42.30       1840.75      0         True  ...             True   \n",
       "4           70.70        151.65      1        False  ...            False   \n",
       "\n",
       "   StreamingTV_No internet service  StreamingTV_Yes  \\\n",
       "0                            False            False   \n",
       "1                            False            False   \n",
       "2                            False            False   \n",
       "3                            False            False   \n",
       "4                            False            False   \n",
       "\n",
       "   StreamingMovies_No internet service  StreamingMovies_Yes  \\\n",
       "0                                False                False   \n",
       "1                                False                False   \n",
       "2                                False                False   \n",
       "3                                False                False   \n",
       "4                                False                False   \n",
       "\n",
       "   Contract_One year  Contract_Two year  \\\n",
       "0              False              False   \n",
       "1               True              False   \n",
       "2              False              False   \n",
       "3               True              False   \n",
       "4              False              False   \n",
       "\n",
       "   PaymentMethod_Credit card (automatic)  PaymentMethod_Electronic check  \\\n",
       "0                                  False                            True   \n",
       "1                                  False                           False   \n",
       "2                                  False                           False   \n",
       "3                                  False                           False   \n",
       "4                                  False                            True   \n",
       "\n",
       "   PaymentMethod_Mailed check  \n",
       "0                       False  \n",
       "1                        True  \n",
       "2                        True  \n",
       "3                       False  \n",
       "4                       False  \n",
       "\n",
       "[5 rows x 31 columns]"
      ]
     },
     "execution_count": 12,
     "metadata": {},
     "output_type": "execute_result"
    }
   ],
   "source": [
    "df.head()"
   ]
  },
  {
   "cell_type": "markdown",
   "id": "a27f5751",
   "metadata": {},
   "source": [
    " 1.6 Feature Scaling\n",
    "Scaled continuous features to ensure balanced learning for models like SVM, Logistic Regression, and KNN:"
   ]
  },
  {
   "cell_type": "code",
   "execution_count": 13,
   "id": "3c93d11d",
   "metadata": {},
   "outputs": [],
   "source": [
    "from sklearn.preprocessing import StandardScaler\n",
    "\n",
    "scaler = StandardScaler()\n",
    "df[['tenure', 'MonthlyCharges', 'TotalCharges']] = scaler.fit_transform(df[['tenure', 'MonthlyCharges', 'TotalCharges']])\n"
   ]
  },
  {
   "cell_type": "markdown",
   "id": "34d6c49a",
   "metadata": {},
   "source": [
    " 1.7 Train-Test Split\n",
    "Split data into 80% training and 20% test:"
   ]
  },
  {
   "cell_type": "code",
   "execution_count": 14,
   "id": "3046e969",
   "metadata": {},
   "outputs": [],
   "source": [
    "from sklearn.model_selection import train_test_split\n",
    "\n",
    "X = df.drop('Churn', axis=1)\n",
    "y = df['Churn']\n",
    "\n",
    "X_train, X_test, y_train, y_test = train_test_split(X, y, test_size=0.2, random_state=42)\n"
   ]
  },
  {
   "cell_type": "markdown",
   "id": "c764b037",
   "metadata": {},
   "source": [
    "                                   Task-2: Machine Learning Modeling "
   ]
  },
  {
   "cell_type": "markdown",
   "id": "9eb2b472",
   "metadata": {},
   "source": [
    "Models Training:\n",
    "\n",
    "We have trained five models on the preprocessed data:\n",
    "\n",
    "1.Logistic Regression\n",
    "\n",
    "2.Random Forest\n",
    "\n",
    "3.Decision Tree\n",
    "\n",
    "4.XGBoost\n",
    "\n",
    "5.K-Nearest Neighbors (KNN)\n",
    "\n",
    "6.Support Vector Machine (SVM)"
   ]
  },
  {
   "cell_type": "markdown",
   "id": "cb71e9a9",
   "metadata": {},
   "source": [
    "2.1 Logistic Regression"
   ]
  },
  {
   "cell_type": "code",
   "execution_count": 15,
   "id": "e9bd584b",
   "metadata": {},
   "outputs": [
    {
     "name": "stdout",
     "output_type": "stream",
     "text": [
      "Accuracy: 0.8211497515968772\n",
      "\n",
      " Classification Report:\n",
      "               precision    recall  f1-score   support\n",
      "\n",
      "           0       0.86      0.90      0.88      1036\n",
      "           1       0.69      0.60      0.64       373\n",
      "\n",
      "    accuracy                           0.82      1409\n",
      "   macro avg       0.77      0.75      0.76      1409\n",
      "weighted avg       0.82      0.82      0.82      1409\n",
      "\n",
      "\n",
      " Confusion Matrix:\n",
      " [[934 102]\n",
      " [150 223]]\n",
      "\n",
      " ROC-AUC Score: 0.8621748424027245\n"
     ]
    }
   ],
   "source": [
    "from sklearn.linear_model import LogisticRegression\n",
    "from sklearn.metrics import accuracy_score, classification_report, confusion_matrix, roc_auc_score\n",
    "\n",
    "\n",
    "\n",
    "# 3. Train Logistic Regression model\n",
    "model = LogisticRegression(max_iter=1000)\n",
    "model.fit(X_train, y_train)\n",
    "\n",
    "# 4. Make predictions\n",
    "y_pred = model.predict(X_test)\n",
    "y_proba = model.predict_proba(X_test)[:, 1]  # For ROC-AUC\n",
    "\n",
    "# 5. Evaluate model\n",
    "print(\"Accuracy:\", accuracy_score(y_test, y_pred))\n",
    "print(\"\\n Classification Report:\\n\", classification_report(y_test, y_pred))\n",
    "print(\"\\n Confusion Matrix:\\n\", confusion_matrix(y_test, y_pred))\n",
    "print(\"\\n ROC-AUC Score:\", roc_auc_score(y_test, y_proba))\n"
   ]
  },
  {
   "cell_type": "markdown",
   "id": "604b58c5",
   "metadata": {},
   "source": [
    "2.2 Random Forest "
   ]
  },
  {
   "cell_type": "code",
   "execution_count": 16,
   "id": "0d9d57ab",
   "metadata": {},
   "outputs": [
    {
     "name": "stdout",
     "output_type": "stream",
     "text": [
      "Random Forest Results\n",
      "Accuracy: 0.7984386089425124\n",
      "Classification Report:\n",
      "               precision    recall  f1-score   support\n",
      "\n",
      "           0       0.83      0.92      0.87      1036\n",
      "           1       0.67      0.47      0.55       373\n",
      "\n",
      "    accuracy                           0.80      1409\n",
      "   macro avg       0.75      0.69      0.71      1409\n",
      "weighted avg       0.79      0.80      0.79      1409\n",
      "\n",
      "ROC-AUC Score: 0.8374923659776207\n"
     ]
    }
   ],
   "source": [
    "from sklearn.ensemble import RandomForestClassifier\n",
    "from sklearn.metrics import classification_report, confusion_matrix, roc_auc_score\n",
    "\n",
    "# Initialize the model\n",
    "rf_model = RandomForestClassifier(random_state=42)\n",
    "\n",
    "# Train the model\n",
    "rf_model.fit(X_train, y_train)\n",
    "\n",
    "# Make predictions\n",
    "rf_pred = rf_model.predict(X_test)\n",
    "rf_proba = rf_model.predict_proba(X_test)[:, 1]\n",
    "\n",
    "# Evaluate\n",
    "print(\"Random Forest Results\")\n",
    "print(\"Accuracy:\", rf_model.score(X_test, y_test))\n",
    "print(\"Classification Report:\\n\", classification_report(y_test, rf_pred))\n",
    "print(\"ROC-AUC Score:\", roc_auc_score(y_test, rf_proba))\n"
   ]
  },
  {
   "cell_type": "markdown",
   "id": "557523ae",
   "metadata": {},
   "source": [
    "2.3 Decision Tree"
   ]
  },
  {
   "cell_type": "code",
   "execution_count": 17,
   "id": "18720eae",
   "metadata": {},
   "outputs": [
    {
     "name": "stdout",
     "output_type": "stream",
     "text": [
      "Decision Tree Performance:\n",
      "Accuracy  : 0.7119\n",
      "Precision : 0.4576\n",
      "Recall    : 0.4772\n",
      "F1 Score  : 0.4672\n",
      "ROC-AUC   : 0.6373\n"
     ]
    }
   ],
   "source": [
    "from sklearn.tree import DecisionTreeClassifier\n",
    "\n",
    "# Initialize the model\n",
    "dt_model = DecisionTreeClassifier(random_state=42)\n",
    "\n",
    "# Train the model\n",
    "dt_model.fit(X_train, y_train)\n",
    "\n",
    "from sklearn.metrics import accuracy_score, precision_score, recall_score, f1_score, roc_auc_score\n",
    "\n",
    "# Predict\n",
    "dt_preds = dt_model.predict(X_test)\n",
    "dt_probs = dt_model.predict_proba(X_test)[:, 1]\n",
    "\n",
    "# Evaluate\n",
    "print(\"Decision Tree Performance:\")\n",
    "print(f\"Accuracy  : {accuracy_score(y_test, dt_preds):.4f}\")\n",
    "print(f\"Precision : {precision_score(y_test, dt_preds):.4f}\")\n",
    "print(f\"Recall    : {recall_score(y_test, dt_preds):.4f}\")\n",
    "print(f\"F1 Score  : {f1_score(y_test, dt_preds):.4f}\")\n",
    "print(f\"ROC-AUC   : {roc_auc_score(y_test, dt_probs):.4f}\")\n",
    "\n"
   ]
  },
  {
   "cell_type": "markdown",
   "id": "053f9393",
   "metadata": {},
   "source": [
    "2.4 XGBoost"
   ]
  },
  {
   "cell_type": "code",
   "execution_count": 18,
   "id": "0692d897",
   "metadata": {},
   "outputs": [
    {
     "name": "stdout",
     "output_type": "stream",
     "text": [
      "XGBoost Results\n",
      "Accuracy: 0.7892122072391767\n",
      "Classification Report:\n",
      "               precision    recall  f1-score   support\n",
      "\n",
      "           0       0.83      0.89      0.86      1036\n",
      "           1       0.63      0.50      0.56       373\n",
      "\n",
      "    accuracy                           0.79      1409\n",
      "   macro avg       0.73      0.70      0.71      1409\n",
      "weighted avg       0.78      0.79      0.78      1409\n",
      "\n",
      "ROC-AUC Score: 0.8391770265094662\n"
     ]
    },
    {
     "name": "stderr",
     "output_type": "stream",
     "text": [
      "c:\\Users\\HP\\anaconda3\\Lib\\site-packages\\xgboost\\training.py:183: UserWarning: [15:31:06] WARNING: C:\\actions-runner\\_work\\xgboost\\xgboost\\src\\learner.cc:738: \n",
      "Parameters: { \"use_label_encoder\" } are not used.\n",
      "\n",
      "  bst.update(dtrain, iteration=i, fobj=obj)\n"
     ]
    }
   ],
   "source": [
    "from xgboost import XGBClassifier\n",
    "\n",
    "# Initialize the model\n",
    "xgb_model = XGBClassifier(use_label_encoder=False, eval_metric='logloss', random_state=42)\n",
    "\n",
    "# Train the model\n",
    "xgb_model.fit(X_train, y_train)\n",
    "\n",
    "# Make predictions\n",
    "xgb_pred = xgb_model.predict(X_test)\n",
    "xgb_proba = xgb_model.predict_proba(X_test)[:, 1]\n",
    "\n",
    "# Evaluate\n",
    "print(\"XGBoost Results\")\n",
    "print(\"Accuracy:\", xgb_model.score(X_test, y_test))\n",
    "print(\"Classification Report:\\n\", classification_report(y_test, xgb_pred))\n",
    "print(\"ROC-AUC Score:\", roc_auc_score(y_test, xgb_proba))\n"
   ]
  },
  {
   "cell_type": "markdown",
   "id": "2dd44449",
   "metadata": {},
   "source": [
    "2.5 KNN"
   ]
  },
  {
   "cell_type": "code",
   "execution_count": 19,
   "id": "3228f2b6",
   "metadata": {},
   "outputs": [
    {
     "name": "stdout",
     "output_type": "stream",
     "text": [
      "KNN Results\n",
      "Accuracy: 0.7721788502484032\n",
      "Classification Report:\n",
      "               precision    recall  f1-score   support\n",
      "\n",
      "           0       0.83      0.86      0.85      1036\n",
      "           1       0.58      0.53      0.55       373\n",
      "\n",
      "    accuracy                           0.77      1409\n",
      "   macro avg       0.71      0.69      0.70      1409\n",
      "weighted avg       0.77      0.77      0.77      1409\n",
      "\n",
      "ROC-AUC Score: 0.7965804755348992\n"
     ]
    }
   ],
   "source": [
    "from sklearn.neighbors import KNeighborsClassifier\n",
    "\n",
    "# Initialize the model\n",
    "knn_model = KNeighborsClassifier(n_neighbors=5)\n",
    "\n",
    "# Train the model\n",
    "knn_model.fit(X_train, y_train)\n",
    "\n",
    "# Predictions\n",
    "knn_pred = knn_model.predict(X_test)\n",
    "knn_proba = knn_model.predict_proba(X_test)[:, 1]\n",
    "\n",
    "# Evaluation\n",
    "print(\"KNN Results\")\n",
    "print(\"Accuracy:\", knn_model.score(X_test, y_test))\n",
    "print(\"Classification Report:\\n\", classification_report(y_test, knn_pred))\n",
    "print(\"ROC-AUC Score:\", roc_auc_score(y_test, knn_proba))\n"
   ]
  },
  {
   "cell_type": "markdown",
   "id": "a65433b9",
   "metadata": {},
   "source": [
    "2.6 Support Vector Machine(SVR)"
   ]
  },
  {
   "cell_type": "code",
   "execution_count": 20,
   "id": "d50f4eac",
   "metadata": {},
   "outputs": [],
   "source": [
    "from sklearn.svm import SVC\n",
    "from sklearn.metrics import classification_report, confusion_matrix, roc_auc_score\n",
    "\n",
    "# Initialize the model\n",
    "svm_model = SVC(probability=True, random_state=42)\n",
    "\n",
    "# Train the model\n",
    "svm_model.fit(X_train, y_train)\n",
    "\n",
    "# Predictions\n",
    "svm_pred = svm_model.predict(X_test)\n",
    "svm_proba = svm_model.predict_proba(X_test)[:, 1]"
   ]
  },
  {
   "cell_type": "code",
   "execution_count": 21,
   "id": "4d1b9f3d",
   "metadata": {},
   "outputs": [
    {
     "name": "stdout",
     "output_type": "stream",
     "text": [
      "SVM Results\n",
      "Accuracy: 0.8140525195173882\n",
      "Classification Report:\n",
      "               precision    recall  f1-score   support\n",
      "\n",
      "           0       0.84      0.92      0.88      1036\n",
      "           1       0.70      0.52      0.60       373\n",
      "\n",
      "    accuracy                           0.81      1409\n",
      "   macro avg       0.77      0.72      0.74      1409\n",
      "weighted avg       0.80      0.81      0.80      1409\n",
      "\n",
      "ROC-AUC Score: 0.8084209736354508\n"
     ]
    }
   ],
   "source": [
    "print(\"SVM Results\")\n",
    "print(\"Accuracy:\", svm_model.score(X_test, y_test))\n",
    "print(\"Classification Report:\\n\", classification_report(y_test, svm_pred))\n",
    "print(\"ROC-AUC Score:\", roc_auc_score(y_test, svm_proba))"
   ]
  },
  {
   "cell_type": "markdown",
   "id": "3007bc09",
   "metadata": {},
   "source": [
    "                                      Task-3: Model Evaluation \n",
    "                                    (Before Hyper Parameter Tuning)\n",
    "\n",
    "3.1 Evaluation Metrics Used\n",
    "All models were evaluated using:\n",
    "\n",
    "Accuracy\n",
    "\n",
    "Precision\n",
    "\n",
    "Recall\n",
    "\n",
    "F1 Score\n",
    "\n",
    "ROC-AUC Score\n",
    "\n",
    "This ensures both class balance and ranking performance are captured.                                      "
   ]
  },
  {
   "cell_type": "code",
   "execution_count": 22,
   "id": "8e49e437",
   "metadata": {},
   "outputs": [
    {
     "name": "stdout",
     "output_type": "stream",
     "text": [
      "                 Model  Accuracy  Precision    Recall  F1 Score   ROC-AUC\n",
      "0  Logistic Regression  0.821150   0.686154  0.597855  0.638968  0.862175\n",
      "2              XGBoost  0.789212   0.628378  0.498660  0.556054  0.839177\n",
      "1        Random Forest  0.798439   0.667925  0.474531  0.554859  0.837492\n",
      "3                  SVM  0.814053   0.700361  0.520107  0.596923  0.808421\n",
      "4                  KNN  0.772179   0.576471  0.525469  0.549790  0.796580\n",
      "5        Decision Tree  0.711852   0.457584  0.477212  0.467192  0.637336\n"
     ]
    }
   ],
   "source": [
    "import pandas as pd\n",
    "from sklearn.metrics import accuracy_score, precision_score, recall_score, f1_score, roc_auc_score\n",
    "\n",
    "#  Define evaluation function\n",
    "def evaluate_model(name, model, X_test, y_test):\n",
    "    y_pred = model.predict(X_test)\n",
    "    y_proba = model.predict_proba(X_test)[:, 1]  # Ensure model supports predict_proba\n",
    "    return {\n",
    "        'Model': name,\n",
    "        'Accuracy': accuracy_score(y_test, y_pred),\n",
    "        'Precision': precision_score(y_test, y_pred),\n",
    "        'Recall': recall_score(y_test, y_pred),\n",
    "        'F1 Score': f1_score(y_test, y_pred),\n",
    "        'ROC-AUC': roc_auc_score(y_test, y_proba)\n",
    "    }\n",
    "\n",
    "#  Replace with your actual trained models\n",
    "models = {\n",
    "    \"Logistic Regression\": model,\n",
    "    \"Random Forest\": rf_model,\n",
    "    \"XGBoost\": xgb_model,\n",
    "    \"SVM\": svm_model,\n",
    "    \"KNN\": knn_model,\n",
    "    \"Decision Tree\": dt_model\n",
    "}\n",
    "\n",
    "# Evaluate each model\n",
    "results = []\n",
    "for name, model in models.items():\n",
    "    results.append(evaluate_model(name, model, X_test, y_test))\n",
    "\n",
    "#  Display results\n",
    "results_df = pd.DataFrame(results)\n",
    "results_df = results_df.sort_values(by=\"ROC-AUC\", ascending=False)\n",
    "print(results_df)\n"
   ]
  },
  {
   "cell_type": "markdown",
   "id": "68ccf7d3",
   "metadata": {},
   "source": [
    "3.2 Hyperparameter Tuning\n",
    "\n",
    "Used GridSearchCV on all models to improve performance:\n",
    "\n",
    "Logistic Regression: tuned C, penalty, solver\n",
    "\n",
    "Random Forest: tuned n_estimators, max_depth, min_samples_split, min_samples_leaf\n",
    "\n",
    "XGBoost: tuned learning_rate, max_depth, n_estimators, subsample\n",
    "\n",
    "SVM: tuned C, kernel, gamma\n",
    "\n",
    "KNN: tuned n_neighbors, weights, metric\n",
    "\n",
    "Best models were selected using ROC-AUC as the scoring metric."
   ]
  },
  {
   "cell_type": "markdown",
   "id": "27506ba5",
   "metadata": {},
   "source": [
    "3.2(1) Logistic Regression using Hyperparameter Tuning"
   ]
  },
  {
   "cell_type": "code",
   "execution_count": 23,
   "id": "7e77b936",
   "metadata": {},
   "outputs": [
    {
     "name": "stdout",
     "output_type": "stream",
     "text": [
      "Best Parameters (Logistic Regression): {'C': 10, 'penalty': 'l2', 'solver': 'lbfgs'}\n",
      "Evaluation Metrics:\n",
      "Accuracy  : 0.8204400283889283\n",
      "Precision : 0.6851851851851852\n",
      "Recall    : 0.5951742627345844\n",
      "F1 Score  : 0.6370157819225251\n",
      "ROC-AUC   : 0.8618306644446054\n"
     ]
    }
   ],
   "source": [
    "from sklearn.model_selection import GridSearchCV\n",
    "\n",
    "\n",
    "# Define model\n",
    "lr = LogisticRegression(max_iter=1000)\n",
    "\n",
    "# Define hyperparameter grid\n",
    "param_grid_lr = {\n",
    "    'C': [0.01, 0.1, 1, 10],\n",
    "    'penalty': ['l2'],\n",
    "    'solver': ['lbfgs']\n",
    "}\n",
    "\n",
    "# Grid Search\n",
    "grid_lr = GridSearchCV(lr, param_grid_lr, cv=5, scoring='roc_auc', n_jobs=-1)\n",
    "grid_lr.fit(X_train, y_train)\n",
    "\n",
    "# Best model\n",
    "best_lr = grid_lr.best_estimator_\n",
    "\n",
    "# Predict\n",
    "y_pred = best_lr.predict(X_test)\n",
    "y_proba = best_lr.predict_proba(X_test)[:, 1]\n",
    "\n",
    "# Evaluation metrics\n",
    "print(\"Best Parameters (Logistic Regression):\", grid_lr.best_params_)\n",
    "print(\"Evaluation Metrics:\")\n",
    "print(\"Accuracy  :\", accuracy_score(y_test, y_pred))\n",
    "print(\"Precision :\", precision_score(y_test, y_pred))\n",
    "print(\"Recall    :\", recall_score(y_test, y_pred))\n",
    "print(\"F1 Score  :\", f1_score(y_test, y_pred))\n",
    "print(\"ROC-AUC   :\", roc_auc_score(y_test, y_proba))\n"
   ]
  },
  {
   "cell_type": "markdown",
   "id": "c90fa83f",
   "metadata": {},
   "source": [
    "3.2(2) Random Forest Classification using Hyperparameter Tuning"
   ]
  },
  {
   "cell_type": "code",
   "execution_count": 24,
   "id": "a645df74",
   "metadata": {},
   "outputs": [
    {
     "name": "stdout",
     "output_type": "stream",
     "text": [
      "Best Parameters (Random Forest): {'max_depth': 10, 'min_samples_leaf': 2, 'min_samples_split': 5, 'n_estimators': 100}\n",
      "Evaluation Metrics:\n",
      "Accuracy  : 0.8147622427253371\n",
      "Precision : 0.7028985507246377\n",
      "Recall    : 0.5201072386058981\n",
      "F1 Score  : 0.5978428351309707\n",
      "ROC-AUC   : 0.8598186466819174\n"
     ]
    }
   ],
   "source": [
    "\n",
    "from sklearn.model_selection import GridSearchCV\n",
    "\n",
    "\n",
    "# 1. Define base model\n",
    "rf = RandomForestClassifier(random_state=42)\n",
    "\n",
    "# 2. Define hyperparameter grid\n",
    "param_grid_rf = {\n",
    "    'n_estimators': [100, 200],\n",
    "    'max_depth': [None, 10, 20],\n",
    "    'min_samples_split': [2, 5],\n",
    "    'min_samples_leaf': [1, 2]\n",
    "}\n",
    "\n",
    "# 3. Grid Search\n",
    "grid_rf = GridSearchCV(rf, param_grid_rf, cv=5, scoring='roc_auc', n_jobs=-1)\n",
    "grid_rf.fit(X_train, y_train)\n",
    "\n",
    "# 4. Best model\n",
    "best_rf = grid_rf.best_estimator_\n",
    "\n",
    "# 5. Predictions\n",
    "y_pred = best_rf.predict(X_test)\n",
    "y_proba = best_rf.predict_proba(X_test)[:, 1]\n",
    "\n",
    "# 6. Evaluation\n",
    "print(\"Best Parameters (Random Forest):\", grid_rf.best_params_)\n",
    "print(\"Evaluation Metrics:\")\n",
    "print(\"Accuracy  :\", accuracy_score(y_test, y_pred))\n",
    "print(\"Precision :\", precision_score(y_test, y_pred))\n",
    "print(\"Recall    :\", recall_score(y_test, y_pred))\n",
    "print(\"F1 Score  :\", f1_score(y_test, y_pred))\n",
    "print(\"ROC-AUC   :\", roc_auc_score(y_test, y_proba))\n"
   ]
  },
  {
   "cell_type": "markdown",
   "id": "2e425570",
   "metadata": {},
   "source": [
    "3.2(3) XGBoost Classification using Hyperparameter Tuning"
   ]
  },
  {
   "cell_type": "code",
   "execution_count": 25,
   "id": "04ce84ff",
   "metadata": {},
   "outputs": [
    {
     "name": "stdout",
     "output_type": "stream",
     "text": [
      "Best Parameters (XGBoost): {'learning_rate': 0.05, 'max_depth': 3, 'n_estimators': 100, 'subsample': 0.8}\n",
      "Evaluation Metrics:\n",
      "Accuracy  : 0.8133427963094393\n",
      "Precision : 0.6883561643835616\n",
      "Recall    : 0.5388739946380697\n",
      "F1 Score  : 0.6045112781954888\n",
      "ROC-AUC   : 0.8647717039137951\n"
     ]
    },
    {
     "name": "stderr",
     "output_type": "stream",
     "text": [
      "c:\\Users\\HP\\anaconda3\\Lib\\site-packages\\xgboost\\training.py:183: UserWarning: [15:31:43] WARNING: C:\\actions-runner\\_work\\xgboost\\xgboost\\src\\learner.cc:738: \n",
      "Parameters: { \"use_label_encoder\" } are not used.\n",
      "\n",
      "  bst.update(dtrain, iteration=i, fobj=obj)\n"
     ]
    }
   ],
   "source": [
    "\n",
    "from sklearn.model_selection import GridSearchCV\n",
    "\n",
    "\n",
    "# 1. Define the model\n",
    "xgb = XGBClassifier(use_label_encoder=False, eval_metric='logloss', random_state=42)\n",
    "\n",
    "# 2. Define hyperparameters\n",
    "param_grid_xgb = {\n",
    "    'n_estimators': [100, 200],\n",
    "    'max_depth': [3, 5],\n",
    "    'learning_rate': [0.05, 0.1],\n",
    "    'subsample': [0.8, 1.0]\n",
    "}\n",
    "\n",
    "# 3. Grid Search\n",
    "grid_xgb = GridSearchCV(xgb, param_grid_xgb, cv=5, scoring='roc_auc', n_jobs=-1)\n",
    "grid_xgb.fit(X_train, y_train)\n",
    "\n",
    "# 4. Best model\n",
    "best_xgb = grid_xgb.best_estimator_\n",
    "\n",
    "# 5. Predictions\n",
    "y_pred = best_xgb.predict(X_test)\n",
    "y_proba = best_xgb.predict_proba(X_test)[:, 1]\n",
    "\n",
    "# 6. Evaluation\n",
    "print(\"Best Parameters (XGBoost):\", grid_xgb.best_params_)\n",
    "print(\"Evaluation Metrics:\")\n",
    "print(\"Accuracy  :\", accuracy_score(y_test, y_pred))\n",
    "print(\"Precision :\", precision_score(y_test, y_pred))\n",
    "print(\"Recall    :\", recall_score(y_test, y_pred))\n",
    "print(\"F1 Score  :\", f1_score(y_test, y_pred))\n",
    "print(\"ROC-AUC   :\", roc_auc_score(y_test, y_proba))\n"
   ]
  },
  {
   "cell_type": "markdown",
   "id": "1988955c",
   "metadata": {},
   "source": [
    "3.2(4) Support Vector Machine(SVR) classification using Hyperparameter Tuning"
   ]
  },
  {
   "cell_type": "code",
   "execution_count": 26,
   "id": "eb138b8f",
   "metadata": {},
   "outputs": [
    {
     "name": "stdout",
     "output_type": "stream",
     "text": [
      "Best Parameters (SVM): {'C': 10, 'gamma': 'scale', 'kernel': 'linear'}\n",
      "Evaluation Metrics:\n",
      "Accuracy  : 0.8197303051809794\n",
      "Precision : 0.6842105263157895\n",
      "Recall    : 0.5924932975871313\n",
      "F1 Score  : 0.6350574712643678\n",
      "ROC-AUC   : 0.8523398925543697\n"
     ]
    }
   ],
   "source": [
    "\n",
    "from sklearn.model_selection import GridSearchCV\n",
    "\n",
    "\n",
    "# 1. Define SVM model\n",
    "svm = SVC(probability=True, random_state=42)\n",
    "\n",
    "# 2. Define hyperparameter grid\n",
    "param_grid_svm = {\n",
    "    'C': [0.1, 1, 10],\n",
    "    'kernel': ['rbf', 'linear'],\n",
    "    'gamma': ['scale', 'auto']\n",
    "}\n",
    "\n",
    "# 3. Grid Search\n",
    "grid_svm = GridSearchCV(svm, param_grid_svm, cv=5, scoring='roc_auc', n_jobs=-1)\n",
    "grid_svm.fit(X_train, y_train)\n",
    "\n",
    "# 4. Best model\n",
    "best_svm = grid_svm.best_estimator_\n",
    "\n",
    "# 5. Predictions\n",
    "y_pred = best_svm.predict(X_test)\n",
    "y_proba = best_svm.predict_proba(X_test)[:, 1]\n",
    "\n",
    "# 6. Evaluation\n",
    "print(\"Best Parameters (SVM):\", grid_svm.best_params_)\n",
    "print(\"Evaluation Metrics:\")\n",
    "print(\"Accuracy  :\", accuracy_score(y_test, y_pred))\n",
    "print(\"Precision :\", precision_score(y_test, y_pred))\n",
    "print(\"Recall    :\", recall_score(y_test, y_pred))\n",
    "print(\"F1 Score  :\", f1_score(y_test, y_pred))\n",
    "print(\"ROC-AUC   :\", roc_auc_score(y_test, y_proba))\n"
   ]
  },
  {
   "cell_type": "markdown",
   "id": "60b9de6d",
   "metadata": {},
   "source": [
    "3.2(5) KNN Classification using Hyperparameter Tuning"
   ]
  },
  {
   "cell_type": "code",
   "execution_count": 27,
   "id": "c705b1a8",
   "metadata": {},
   "outputs": [
    {
     "name": "stdout",
     "output_type": "stream",
     "text": [
      "Best Parameters (KNN): {'metric': 'manhattan', 'n_neighbors': 9, 'weights': 'uniform'}\n",
      "Evaluation Metrics:\n",
      "Accuracy  : 0.7955997161107168\n",
      "Precision : 0.6253687315634219\n",
      "Recall    : 0.5683646112600537\n",
      "F1 Score  : 0.5955056179775281\n",
      "ROC-AUC   : 0.8305389361019389\n"
     ]
    }
   ],
   "source": [
    "\n",
    "from sklearn.model_selection import GridSearchCV\n",
    "\n",
    "\n",
    "# 1. Define KNN model\n",
    "knn = KNeighborsClassifier()\n",
    "\n",
    "# 2. Define hyperparameter grid\n",
    "param_grid_knn = {\n",
    "    'n_neighbors': [3, 5, 7, 9],\n",
    "    'weights': ['uniform', 'distance'],\n",
    "    'metric': ['euclidean', 'manhattan']\n",
    "}\n",
    "\n",
    "# 3. Grid Search\n",
    "grid_knn = GridSearchCV(knn, param_grid_knn, cv=5, scoring='roc_auc', n_jobs=-1)\n",
    "grid_knn.fit(X_train, y_train)\n",
    "\n",
    "# 4. Best model\n",
    "best_knn = grid_knn.best_estimator_\n",
    "\n",
    "# 5. Predictions\n",
    "y_pred = best_knn.predict(X_test)\n",
    "y_proba = best_knn.predict_proba(X_test)[:, 1]\n",
    "\n",
    "# 6. Evaluation\n",
    "print(\"Best Parameters (KNN):\", grid_knn.best_params_)\n",
    "print(\"Evaluation Metrics:\")\n",
    "print(\"Accuracy  :\", accuracy_score(y_test, y_pred))\n",
    "print(\"Precision :\", precision_score(y_test, y_pred))\n",
    "print(\"Recall    :\", recall_score(y_test, y_pred))\n",
    "print(\"F1 Score  :\", f1_score(y_test, y_pred))\n",
    "print(\"ROC-AUC   :\", roc_auc_score(y_test, y_proba))\n"
   ]
  },
  {
   "cell_type": "markdown",
   "id": "86a052a4",
   "metadata": {},
   "source": [
    "                                 Final Evaluation Table after Hyperparameter Tuning"
   ]
  },
  {
   "cell_type": "code",
   "execution_count": 28,
   "id": "61f24bba",
   "metadata": {},
   "outputs": [
    {
     "name": "stdout",
     "output_type": "stream",
     "text": [
      "Final Evaluation Table (After Hyperparameter Tuning):\n",
      "                 Model  Accuracy  Precision  Recall  F1 Score  ROC-AUC\n",
      "2              XGBoost    0.8133     0.6884  0.5389    0.6045   0.8648\n",
      "0  Logistic Regression    0.8204     0.6852  0.5952    0.6370   0.8618\n",
      "1        Random Forest    0.8148     0.7029  0.5201    0.5978   0.8598\n",
      "3                  SVM    0.8197     0.6842  0.5925    0.6351   0.8523\n",
      "4                  KNN    0.7956     0.6254  0.5684    0.5955   0.8305\n"
     ]
    }
   ],
   "source": [
    "import pandas as pd\n",
    "from sklearn.metrics import accuracy_score, precision_score, recall_score, f1_score, roc_auc_score\n",
    "\n",
    "# Final evaluation list\n",
    "tuned_results = []\n",
    "\n",
    "# Logistic Regression\n",
    "tuned_results.append({\n",
    "    'Model': 'Logistic Regression',\n",
    "    'Accuracy': accuracy_score(y_test, best_lr.predict(X_test)),\n",
    "    'Precision': precision_score(y_test, best_lr.predict(X_test)),\n",
    "    'Recall': recall_score(y_test, best_lr.predict(X_test)),\n",
    "    'F1 Score': f1_score(y_test, best_lr.predict(X_test)),\n",
    "    'ROC-AUC': roc_auc_score(y_test, best_lr.predict_proba(X_test)[:, 1])\n",
    "})\n",
    "\n",
    "# Random Forest\n",
    "tuned_results.append({\n",
    "    'Model': 'Random Forest',\n",
    "    'Accuracy': accuracy_score(y_test, best_rf.predict(X_test)),\n",
    "    'Precision': precision_score(y_test, best_rf.predict(X_test)),\n",
    "    'Recall': recall_score(y_test, best_rf.predict(X_test)),\n",
    "    'F1 Score': f1_score(y_test, best_rf.predict(X_test)),\n",
    "    'ROC-AUC': roc_auc_score(y_test, best_rf.predict_proba(X_test)[:, 1])\n",
    "})\n",
    "\n",
    "# XGBoost\n",
    "tuned_results.append({\n",
    "    'Model': 'XGBoost',\n",
    "    'Accuracy': accuracy_score(y_test, best_xgb.predict(X_test)),\n",
    "    'Precision': precision_score(y_test, best_xgb.predict(X_test)),\n",
    "    'Recall': recall_score(y_test, best_xgb.predict(X_test)),\n",
    "    'F1 Score': f1_score(y_test, best_xgb.predict(X_test)),\n",
    "    'ROC-AUC': roc_auc_score(y_test, best_xgb.predict_proba(X_test)[:, 1])\n",
    "})\n",
    "\n",
    "# SVM (with probability=True)\n",
    "tuned_results.append({\n",
    "    'Model': 'SVM',\n",
    "    'Accuracy': accuracy_score(y_test, best_svm.predict(X_test)),\n",
    "    'Precision': precision_score(y_test, best_svm.predict(X_test)),\n",
    "    'Recall': recall_score(y_test, best_svm.predict(X_test)),\n",
    "    'F1 Score': f1_score(y_test, best_svm.predict(X_test)),\n",
    "    'ROC-AUC': roc_auc_score(y_test, best_svm.predict_proba(X_test)[:, 1])\n",
    "})\n",
    "\n",
    "# KNN\n",
    "tuned_results.append({\n",
    "    'Model': 'KNN',\n",
    "    'Accuracy': accuracy_score(y_test, best_knn.predict(X_test)),\n",
    "    'Precision': precision_score(y_test, best_knn.predict(X_test)),\n",
    "    'Recall': recall_score(y_test, best_knn.predict(X_test)),\n",
    "    'F1 Score': f1_score(y_test, best_knn.predict(X_test)),\n",
    "    'ROC-AUC': roc_auc_score(y_test, best_knn.predict_proba(X_test)[:, 1])\n",
    "})\n",
    "\n",
    "# Convert to DataFrame and sort by ROC-AUC\n",
    "tuned_results_df = pd.DataFrame(tuned_results)\n",
    "tuned_results_df = tuned_results_df.round(4)\n",
    "tuned_results_df.sort_values(by='ROC-AUC', ascending=False, inplace=True)\n",
    "\n",
    "# Display final table\n",
    "print(\"Final Evaluation Table (After Hyperparameter Tuning):\")\n",
    "print(tuned_results_df)\n"
   ]
  },
  {
   "cell_type": "markdown",
   "id": "1604a529",
   "metadata": {},
   "source": [
    "Conclusion\n",
    "\n",
    "The best-performing model is XGBoost with a ROC-AUC of 0.8648.\n",
    "\n",
    "Logistic Regression also performed well with high interpretability.\n",
    "\n",
    "All models exceeded 0.79 accuracy, with fair balance between precision and recall.\n",
    "\n",
    "GridSearchCV helped fine-tune all models, improving performance by a small but significant margin."
   ]
  },
  {
   "cell_type": "markdown",
   "id": "bb67bdd9",
   "metadata": {},
   "source": [
    "Actionable Insights to Reduce Customer Churn\n",
    "\n",
    "Based on model predictions and feature importance analysis, the following key insights and business recommendations were derived:\n",
    "\n",
    "\n",
    "\n",
    "1. Focus on Customers with Low Tenure\n",
    "\n",
    "   Insight: Customers with a tenure of less than 12 months have a significantly higher risk of churning.\n",
    "\n",
    "   Action: Implement a \"Welcome Program\" that includes onboarding support, personalized offers, and proactive engagement in the first 3 months.\n",
    "\n",
    "\n",
    "\n",
    "2. Target Fiber Optic Internet Users\n",
    "\n",
    "   Insight: Customers using fiber optic internet show higher churn rates.\n",
    "\n",
    "   Action: Investigate potential service issues or pricing dissatisfaction. Offer bundled packages, exclusive discounts, or service guarantees to retain these users.\n",
    "\n",
    "\n",
    "\n",
    "3. Promote Long-Term Contracts Over Month-to-Month Plans\n",
    "\n",
    "   Insight: Churn is significantly higher among customers with month-to-month contracts.\n",
    "\n",
    "   Action:Encourage contract conversions by offering loyalty incentives, lower monthly rates, or added features for long-term plans.\n",
    "\n",
    "\n",
    "\n",
    "4. Increase Adoption of Online Security and Tech Support\n",
    "\n",
    "   Insight: Customers not subscribed to online security or tech support are more likely to churn.\n",
    "\n",
    "   Action: Offer these services at discounted rates or bundle them with popular plans. Run promotional campaigns highlighting their benefits.\n",
    "\n",
    "\n",
    "\n",
    "5. Improve Engagement for Paperless Billing Customers\n",
    "\n",
    "   Insight: Paperless billing users show slightly higher churn, possibly due to reduced engagement or missed communications.\n",
    "   \n",
    "   Action: Increase touchpoints with digital users through personalized emails, usage reports, and billing summaries.\n",
    "\n",
    "\n",
    "\n",
    "\n"
   ]
  },
  {
   "cell_type": "code",
   "execution_count": null,
   "id": "8a105afc",
   "metadata": {},
   "outputs": [],
   "source": []
  },
  {
   "cell_type": "code",
   "execution_count": null,
   "id": "b1e64f85",
   "metadata": {},
   "outputs": [],
   "source": []
  }
 ],
 "metadata": {
  "kernelspec": {
   "display_name": "base",
   "language": "python",
   "name": "python3"
  },
  "language_info": {
   "codemirror_mode": {
    "name": "ipython",
    "version": 3
   },
   "file_extension": ".py",
   "mimetype": "text/x-python",
   "name": "python",
   "nbconvert_exporter": "python",
   "pygments_lexer": "ipython3",
   "version": "3.12.7"
  }
 },
 "nbformat": 4,
 "nbformat_minor": 5
}
